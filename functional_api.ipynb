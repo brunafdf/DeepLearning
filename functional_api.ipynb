{
 "cells": [
  {
   "cell_type": "markdown",
   "metadata": {},
   "source": [
    "# Deep Learning Project - Group 6\n",
    "Bruna Faria | 20211529; \n",
    "Catarina Oliveira | 20211616;\n",
    "Inês Vieira | 20211589;\n",
    "Joana Rosa | 20211516;\n",
    "Rita Centeno | 20211579\n",
    "\n",
    "\n",
    "## **Metadata and Functional API**"
   ]
  },
  {
   "cell_type": "markdown",
   "metadata": {},
   "source": [
    "#### Table of Contents:\n",
    "1. [Library Imports](#libraries-imports)\n",
    "2. [Data Importation](#data-importation)\n",
    "3. [Tabular Data](#tabular-data)\n",
    "4. [Feature Engineering](#feature-eng)\n",
    "5. [Metadata Model Creation](#meta-modeling)\n",
    "6. [Functional API](#functional-api)"
   ]
  },
  {
   "cell_type": "markdown",
   "metadata": {},
   "source": [
    "### Imports\n",
    "<a id='libraries-imports'></a>"
   ]
  },
  {
   "cell_type": "code",
   "execution_count": 1,
   "metadata": {},
   "outputs": [],
   "source": [
    "# Imports\n",
    "\n",
    "# Importing standard libraries\n",
    "import numpy as np\n",
    "import pandas as pd\n",
    "import matplotlib.pyplot as plt\n",
    "import tensorflow as tf\n",
    "\n",
    "# Importing scikit-learn libraries\n",
    "from sklearn.preprocessing import LabelEncoder, MinMaxScaler\n",
    "from sklearn.compose import ColumnTransformer\n",
    "from sklearn.preprocessing import OneHotEncoder\n",
    "from sklearn.utils.class_weight import compute_class_weight\n",
    "from sklearn.impute import KNNImputer\n",
    "from sklearn.metrics import confusion_matrix, accuracy_score, f1_score, classification_report\n",
    "\n",
    "# Importing tensorflow libraries\n",
    "from tensorflow.keras.models import load_model, Model\n",
    "from tensorflow.keras import layers, Input\n",
    "\n",
    "# Importing keras libraries and packages\n",
    "# !pip install keras-tuner\n",
    "import keras_tuner as kt\n",
    "from keras.models import Sequential\n",
    "from keras.layers import Conv2D, MaxPooling2D, Flatten, Dense, Dropout\n",
    "from keras.callbacks import EarlyStopping\n",
    "from keras import regularizers\n",
    "\n",
    "# Importing imblearn libraries\n",
    "from imblearn.over_sampling import RandomOverSampler\n",
    "\n",
    "# Import warnings to silence warnings\n",
    "import warnings\n",
    "warnings.filterwarnings(\"ignore\")\n",
    "\n",
    "# Importing custom functions\n",
    "from path import path\n",
    "from utils import *\n",
    "\n",
    "%load_ext autoreload\n",
    "%autoreload 2"
   ]
  },
  {
   "cell_type": "markdown",
   "metadata": {},
   "source": [
    "### Data Importation\n",
    "<a id='data-importation'></a>"
   ]
  },
  {
   "cell_type": "markdown",
   "metadata": {},
   "source": [
    "The following cells contain the final data which was exported from the modelling notebook and are kept in a separate folder. They were then imported into this one so that the preprocessing and modelling stages would be easier."
   ]
  },
  {
   "cell_type": "code",
   "execution_count": 2,
   "metadata": {},
   "outputs": [],
   "source": [
    "# Data Imports\n",
    "\n",
    "# Importing dataframes\n",
    "metadata_train = pd.read_csv(path + \"new_data//metadata_train_over.csv\")\n",
    "metadata_val = pd.read_csv(path + \"new_data//metadata_val.csv\")\n",
    "metadata_test = pd.read_csv(path + \"new_data//test_metadata.csv\")\n",
    "\n",
    "# Importing numpy arrays\n",
    "X_test = np.load(path + \"new_data//X_test.npy\")\n",
    "X_train_over = np.load(path + \"new_data//X_train_over.npy\")\n",
    "X_val = np.load(path + \"new_data//X_val.npy\")\n",
    "y_test = np.load(path + \"new_data//y_test.npy\")\n",
    "y_train_over = np.load(path + \"new_data//y_train_over.npy\")\n",
    "y_val = np.load(path + \"new_data//y_val.npy\")"
   ]
  },
  {
   "cell_type": "markdown",
   "metadata": {},
   "source": [
    "### Tabular Data\n",
    "<a id='tabular-data'></a>"
   ]
  },
  {
   "cell_type": "code",
   "execution_count": 3,
   "metadata": {},
   "outputs": [
    {
     "name": "stdout",
     "output_type": "stream",
     "text": [
      "---------TRAIN---------\n",
      "\n",
      "lesion_id                0\n",
      "image_id                 0\n",
      "dx                       0\n",
      "dx_type                  0\n",
      "age                     57\n",
      "sex                      0\n",
      "localization             0\n",
      "original_index           0\n",
      "original_train_index     0\n",
      "dtype: int64\n",
      "\n",
      "----------VAL----------\n",
      "\n",
      "lesion_id               0\n",
      "image_id                0\n",
      "dx                      0\n",
      "dx_type                 0\n",
      "age                     8\n",
      "sex                     0\n",
      "localization            0\n",
      "original_index          0\n",
      "original_train_index    0\n",
      "dtype: int64\n",
      "\n",
      "----------TEST----------\n",
      "\n",
      "lesion_id               0\n",
      "image_id                0\n",
      "dx                      0\n",
      "dx_type                 0\n",
      "age                    13\n",
      "sex                     0\n",
      "localization            0\n",
      "original_index          0\n",
      "original_test_index     0\n",
      "dtype: int64\n"
     ]
    }
   ],
   "source": [
    "print('---------TRAIN---------\\n')\n",
    "print(metadata_train.isnull().sum())\n",
    "\n",
    "print('\\n----------VAL----------\\n')\n",
    "print(metadata_val.isnull().sum())\n",
    "\n",
    "print('\\n----------TEST----------\\n')\n",
    "print(metadata_test.isnull().sum())"
   ]
  },
  {
   "cell_type": "markdown",
   "metadata": {},
   "source": [
    "### Feature Engineering and Encoding of Features\n",
    "<a id='feature-eng'></a>"
   ]
  },
  {
   "cell_type": "markdown",
   "metadata": {},
   "source": [
    "Warning: It is important to keep in mind that metadata_train is now the correspondent to the metadata_train_over from the other notebook"
   ]
  },
  {
   "cell_type": "code",
   "execution_count": 61,
   "metadata": {},
   "outputs": [],
   "source": [
    "# Creating a copy of the dataframes\n",
    "metadata_train_df = metadata_train.copy()\n",
    "metadata_val_df = metadata_val.copy()\n",
    "metadata_test_df = metadata_test.copy()\n",
    "\n",
    "# Dropping the columns that do not need to be preprocessed\n",
    "metadata_train_df = metadata_train_df.drop(['lesion_id', 'image_id', 'original_index', 'original_train_index'], axis = 1)\n",
    "metadata_val_df = metadata_val_df.drop(['lesion_id', 'image_id','original_index', 'original_train_index'], axis = 1)\n",
    "metadata_test_df = metadata_test_df.drop(['lesion_id', 'image_id', 'original_index', 'original_test_index'], axis = 1)"
   ]
  },
  {
   "cell_type": "code",
   "execution_count": 62,
   "metadata": {},
   "outputs": [
    {
     "name": "stdout",
     "output_type": "stream",
     "text": [
      "----metetadata_train----\n",
      "dx_type\n",
      "histo        8934\n",
      "consensus    2771\n",
      "follow_up    2209\n",
      "confocal       94\n",
      "Name: count, dtype: int64\n",
      "\n",
      "-----metadata_val-----\n",
      "dx_type\n",
      "histo        787\n",
      "follow_up    566\n",
      "consensus    146\n",
      "confocal       4\n",
      "Name: count, dtype: int64\n",
      "\n",
      "-----metadata_test-----\n",
      "dx_type\n",
      "histo        1326\n",
      "follow_up     929\n",
      "consensus     229\n",
      "confocal       20\n",
      "Name: count, dtype: int64\n"
     ]
    }
   ],
   "source": [
    "# Checking counts for the dx_type column\n",
    "print(\"----metetadata_train----\")\n",
    "print(metadata_train_df.dx_type.value_counts())\n",
    "\n",
    "print(\"\\n-----metadata_val-----\")\n",
    "print(metadata_val_df.dx_type.value_counts())\n",
    "\n",
    "print(\"\\n-----metadata_test-----\")\n",
    "print(metadata_test_df.dx_type.value_counts())\n"
   ]
  },
  {
   "cell_type": "code",
   "execution_count": 63,
   "metadata": {},
   "outputs": [
    {
     "name": "stdout",
     "output_type": "stream",
     "text": [
      "----metetadata_train----\n",
      "localization\n",
      "lower extremity    3505\n",
      "back               2637\n",
      "upper extremity    1856\n",
      "face               1687\n",
      "trunk              1314\n",
      "abdomen            1173\n",
      "chest               593\n",
      "neck                309\n",
      "scalp               272\n",
      "foot                207\n",
      "unknown             198\n",
      "hand                158\n",
      "ear                  66\n",
      "genital              30\n",
      "acral                 3\n",
      "Name: count, dtype: int64\n",
      "\n",
      "-----metadata_val-----\n",
      "localization\n",
      "back               326\n",
      "lower extremity    320\n",
      "trunk              223\n",
      "upper extremity    168\n",
      "abdomen            163\n",
      "face               105\n",
      "chest               57\n",
      "foot                41\n",
      "unknown             34\n",
      "neck                22\n",
      "scalp               17\n",
      "hand                13\n",
      "genital              7\n",
      "ear                  7\n",
      "Name: count, dtype: int64\n",
      "\n",
      "-----metadata_test-----\n",
      "localization\n",
      "back               558\n",
      "lower extremity    519\n",
      "trunk              358\n",
      "upper extremity    267\n",
      "abdomen            242\n",
      "face               182\n",
      "chest              103\n",
      "foot                85\n",
      "unknown             55\n",
      "neck                47\n",
      "scalp               35\n",
      "hand                26\n",
      "ear                 13\n",
      "genital             12\n",
      "acral                2\n",
      "Name: count, dtype: int64\n"
     ]
    }
   ],
   "source": [
    "# Checking counts for the localization column\n",
    "print(\"----metetadata_train----\")\n",
    "print(metadata_train_df.localization.value_counts())\n",
    "\n",
    "print(\"\\n-----metadata_val-----\")\n",
    "print(metadata_val_df.localization.value_counts())\n",
    "\n",
    "print(\"\\n-----metadata_test-----\")\n",
    "print(metadata_test_df.localization.value_counts())"
   ]
  },
  {
   "cell_type": "code",
   "execution_count": 64,
   "metadata": {},
   "outputs": [
    {
     "name": "stdout",
     "output_type": "stream",
     "text": [
      "----metetadata_train----\n",
      "sex\n",
      "male       7915\n",
      "female     6039\n",
      "unknown      54\n",
      "Name: count, dtype: int64\n",
      "\n",
      "-----metadata_val-----\n",
      "sex\n",
      "male       833\n",
      "female     663\n",
      "unknown      7\n",
      "Name: count, dtype: int64\n",
      "\n",
      "-----metadata_test-----\n",
      "sex\n",
      "male       1354\n",
      "female     1137\n",
      "unknown      13\n",
      "Name: count, dtype: int64\n"
     ]
    }
   ],
   "source": [
    "# Checking counts for the sex column\n",
    "print(\"----metetadata_train----\")\n",
    "print(metadata_train_df.sex.value_counts())\n",
    "\n",
    "print(\"\\n-----metadata_val-----\")\n",
    "print(metadata_val_df.sex.value_counts())\n",
    "\n",
    "print(\"\\n-----metadata_test-----\")\n",
    "print(metadata_test_df.sex.value_counts())"
   ]
  },
  {
   "cell_type": "code",
   "execution_count": 65,
   "metadata": {},
   "outputs": [],
   "source": [
    "# Encoding the sex column\n",
    "sex_mapping = {'female': 0, 'male': 2, 'unknown': 1}\n",
    "metadata_train_df['sex'] = metadata_train_df['sex'].map(sex_mapping)\n",
    "metadata_val_df['sex'] = metadata_val_df['sex'].map(sex_mapping)\n",
    "metadata_test_df['sex'] = metadata_test_df['sex'].map(sex_mapping)\n",
    "\n",
    "# Encoding the localization column\n",
    "# localization ordered from head to toe\n",
    "localization_mapping = {'unknown': 0, 'face': 1, 'scalp': 2, 'ear': 3, 'neck': 4, 'chest': 5, 'trunk': 6, 'abdomen': 7, 'back':8, 'genital': 9, 'hand': 10, \n",
    "                        'upper extremity': 11, 'lower extremity': 12, 'foot': 13 }\n",
    "\n",
    "metadata_train_df['localization'] = metadata_train_df['localization'].map(localization_mapping)\n",
    "metadata_val_df['localization'] = metadata_val_df['localization'].map(localization_mapping)\n",
    "metadata_test_df['localization'] = metadata_test_df['localization'].map(localization_mapping)"
   ]
  },
  {
   "cell_type": "code",
   "execution_count": 66,
   "metadata": {},
   "outputs": [
    {
     "name": "stdout",
     "output_type": "stream",
     "text": [
      "----metetadata_train----\n",
      "dx_type\n",
      "histo        1326\n",
      "follow_up     929\n",
      "consensus     229\n",
      "confocal       20\n",
      "Name: count, dtype: int64\n",
      "\n",
      "-----metadata_val-----\n",
      "dx_type\n",
      "histo        787\n",
      "follow_up    566\n",
      "consensus    146\n",
      "confocal       4\n",
      "Name: count, dtype: int64\n",
      "\n",
      "-----metadata_test-----\n",
      "dx_type\n",
      "histo        8934\n",
      "consensus    2771\n",
      "follow_up    2209\n",
      "confocal       94\n",
      "Name: count, dtype: int64\n"
     ]
    }
   ],
   "source": [
    "# Checking counts for the dx_type column\n",
    "print(\"----metetadata_train----\")\n",
    "print(metadata_test_df.dx_type.value_counts())\n",
    "\n",
    "print(\"\\n-----metadata_val-----\")\n",
    "print(metadata_val_df.dx_type.value_counts())\n",
    "\n",
    "print(\"\\n-----metadata_test-----\")\n",
    "print(metadata_train_df.dx_type.value_counts())"
   ]
  },
  {
   "cell_type": "code",
   "execution_count": 67,
   "metadata": {},
   "outputs": [
    {
     "name": "stdout",
     "output_type": "stream",
     "text": [
      "\n",
      "---metadata_train---\n",
      "dx\n",
      "nv       3508\n",
      "akiec    1750\n",
      "mel      1750\n",
      "bkl      1750\n",
      "bcc      1750\n",
      "df       1750\n",
      "vasc     1750\n",
      "Name: count, dtype: int64\n",
      "\n",
      "---metadata_val---\n",
      "dx\n",
      "nv       1006\n",
      "mel       167\n",
      "bkl       165\n",
      "bcc        77\n",
      "akiec      49\n",
      "vasc       22\n",
      "df         17\n",
      "Name: count, dtype: int64\n",
      "\n",
      "---metadata_test---\n",
      "dx\n",
      "nv       1676\n",
      "mel       278\n",
      "bkl       275\n",
      "bcc       129\n",
      "akiec      82\n",
      "vasc       35\n",
      "df         29\n",
      "Name: count, dtype: int64\n"
     ]
    }
   ],
   "source": [
    "print(\"\\n---metadata_train---\")\n",
    "print(metadata_train.dx.value_counts())\n",
    "\n",
    "print(\"\\n---metadata_val---\")\n",
    "print(metadata_val.dx.value_counts())\n",
    "\n",
    "print(\"\\n---metadata_test---\")\n",
    "print(metadata_test.dx.value_counts())"
   ]
  },
  {
   "cell_type": "code",
   "execution_count": 68,
   "metadata": {},
   "outputs": [],
   "source": [
    "# Replacing age missing values with 0\n",
    "metadata_train_df['age'].replace(np.nan, 0, inplace=True)\n",
    "metadata_val_df['age'].replace(np.nan, 0, inplace=True)\n",
    "metadata_test_df['age'].replace(np.nan, 0, inplace=True)"
   ]
  },
  {
   "cell_type": "code",
   "execution_count": 69,
   "metadata": {},
   "outputs": [
    {
     "data": {
      "text/plain": [
       "age\n",
       "55.0    1550\n",
       "50.0    1438\n",
       "70.0    1417\n",
       "65.0    1366\n",
       "45.0    1346\n",
       "60.0    1277\n",
       "75.0    1144\n",
       "40.0     967\n",
       "80.0     899\n",
       "35.0     770\n",
       "85.0     649\n",
       "30.0     473\n",
       "25.0     212\n",
       "20.0     147\n",
       "0.0      128\n",
       "5.0       95\n",
       "15.0      85\n",
       "10.0      45\n",
       "Name: count, dtype: int64"
      ]
     },
     "execution_count": 69,
     "metadata": {},
     "output_type": "execute_result"
    }
   ],
   "source": [
    "metadata_train_df.age.value_counts()"
   ]
  },
  {
   "cell_type": "code",
   "execution_count": 70,
   "metadata": {},
   "outputs": [
    {
     "data": {
      "text/html": [
       "<div>\n",
       "<style scoped>\n",
       "    .dataframe tbody tr th:only-of-type {\n",
       "        vertical-align: middle;\n",
       "    }\n",
       "\n",
       "    .dataframe tbody tr th {\n",
       "        vertical-align: top;\n",
       "    }\n",
       "\n",
       "    .dataframe thead th {\n",
       "        text-align: right;\n",
       "    }\n",
       "</style>\n",
       "<table border=\"1\" class=\"dataframe\">\n",
       "  <thead>\n",
       "    <tr style=\"text-align: right;\">\n",
       "      <th></th>\n",
       "      <th>dx</th>\n",
       "      <th>dx_type</th>\n",
       "      <th>age</th>\n",
       "      <th>sex</th>\n",
       "      <th>localization</th>\n",
       "    </tr>\n",
       "  </thead>\n",
       "  <tbody>\n",
       "    <tr>\n",
       "      <th>0</th>\n",
       "      <td>nv</td>\n",
       "      <td>histo</td>\n",
       "      <td>75.0</td>\n",
       "      <td>0</td>\n",
       "      <td>8.0</td>\n",
       "    </tr>\n",
       "    <tr>\n",
       "      <th>1</th>\n",
       "      <td>nv</td>\n",
       "      <td>follow_up</td>\n",
       "      <td>65.0</td>\n",
       "      <td>2</td>\n",
       "      <td>8.0</td>\n",
       "    </tr>\n",
       "    <tr>\n",
       "      <th>2</th>\n",
       "      <td>nv</td>\n",
       "      <td>histo</td>\n",
       "      <td>45.0</td>\n",
       "      <td>0</td>\n",
       "      <td>8.0</td>\n",
       "    </tr>\n",
       "  </tbody>\n",
       "</table>\n",
       "</div>"
      ],
      "text/plain": [
       "   dx    dx_type   age  sex  localization\n",
       "0  nv      histo  75.0    0           8.0\n",
       "1  nv  follow_up  65.0    2           8.0\n",
       "2  nv      histo  45.0    0           8.0"
      ]
     },
     "execution_count": 70,
     "metadata": {},
     "output_type": "execute_result"
    }
   ],
   "source": [
    "metadata_train_df.head(3)"
   ]
  },
  {
   "cell_type": "code",
   "execution_count": 71,
   "metadata": {},
   "outputs": [
    {
     "data": {
      "text/html": [
       "<div>\n",
       "<style scoped>\n",
       "    .dataframe tbody tr th:only-of-type {\n",
       "        vertical-align: middle;\n",
       "    }\n",
       "\n",
       "    .dataframe tbody tr th {\n",
       "        vertical-align: top;\n",
       "    }\n",
       "\n",
       "    .dataframe thead th {\n",
       "        text-align: right;\n",
       "    }\n",
       "</style>\n",
       "<table border=\"1\" class=\"dataframe\">\n",
       "  <thead>\n",
       "    <tr style=\"text-align: right;\">\n",
       "      <th></th>\n",
       "      <th>dx</th>\n",
       "      <th>dx_type</th>\n",
       "      <th>age</th>\n",
       "      <th>sex</th>\n",
       "      <th>localization</th>\n",
       "    </tr>\n",
       "  </thead>\n",
       "  <tbody>\n",
       "    <tr>\n",
       "      <th>0</th>\n",
       "      <td>bkl</td>\n",
       "      <td>histo</td>\n",
       "      <td>0.823529</td>\n",
       "      <td>0.0</td>\n",
       "      <td>0.615385</td>\n",
       "    </tr>\n",
       "    <tr>\n",
       "      <th>1</th>\n",
       "      <td>bkl</td>\n",
       "      <td>histo</td>\n",
       "      <td>1.000000</td>\n",
       "      <td>0.0</td>\n",
       "      <td>0.384615</td>\n",
       "    </tr>\n",
       "    <tr>\n",
       "      <th>2</th>\n",
       "      <td>bkl</td>\n",
       "      <td>histo</td>\n",
       "      <td>0.823529</td>\n",
       "      <td>0.0</td>\n",
       "      <td>0.076923</td>\n",
       "    </tr>\n",
       "  </tbody>\n",
       "</table>\n",
       "</div>"
      ],
      "text/plain": [
       "    dx dx_type       age  sex  localization\n",
       "0  bkl   histo  0.823529  0.0      0.615385\n",
       "1  bkl   histo  1.000000  0.0      0.384615\n",
       "2  bkl   histo  0.823529  0.0      0.076923"
      ]
     },
     "execution_count": 71,
     "metadata": {},
     "output_type": "execute_result"
    }
   ],
   "source": [
    "# Scaling the numeric columns\n",
    "scaler = MinMaxScaler()\n",
    "metadata_train_df.iloc[:,2:] = scaler.fit_transform(metadata_train_df.iloc[:,2:])\n",
    "metadata_val_df.iloc[:,2:] = scaler.transform(metadata_val_df.iloc[:,2:])\n",
    "metadata_test_df.iloc[:,2:] = scaler.transform(metadata_test_df.iloc[:,2:])\n",
    "\n",
    "# Checking the results\n",
    "metadata_test_df.head(3)"
   ]
  },
  {
   "cell_type": "code",
   "execution_count": 72,
   "metadata": {},
   "outputs": [],
   "source": [
    "# One-hot encode the dx_type column\n",
    "ct = ColumnTransformer([('one_hot', OneHotEncoder(), [1] )], remainder = \"passthrough\")\n",
    "metadata_train_df_dxtype= ct.fit_transform(metadata_train_df)\n",
    "metadata_val_df_dxtype= ct.transform(metadata_val_df)\n",
    "metadata_test_df_dxtype= ct.transform(metadata_test_df)"
   ]
  },
  {
   "cell_type": "code",
   "execution_count": 73,
   "metadata": {},
   "outputs": [],
   "source": [
    "# Get the feature names after transformations\n",
    "feature_names = ct.get_feature_names_out(metadata_train_df.columns)\n",
    "\n",
    "# Create dataframes with the transformed data\n",
    "metadata_train_df_dxtype = pd.DataFrame(metadata_train_df_dxtype, columns=feature_names)\n",
    "metadata_val_df_dxtype = pd.DataFrame(metadata_val_df_dxtype, columns=feature_names)\n",
    "metadata_test_df_dxtype = pd.DataFrame(metadata_test_df_dxtype, columns=feature_names)"
   ]
  },
  {
   "cell_type": "code",
   "execution_count": 74,
   "metadata": {},
   "outputs": [
    {
     "data": {
      "text/html": [
       "<div>\n",
       "<style scoped>\n",
       "    .dataframe tbody tr th:only-of-type {\n",
       "        vertical-align: middle;\n",
       "    }\n",
       "\n",
       "    .dataframe tbody tr th {\n",
       "        vertical-align: top;\n",
       "    }\n",
       "\n",
       "    .dataframe thead th {\n",
       "        text-align: right;\n",
       "    }\n",
       "</style>\n",
       "<table border=\"1\" class=\"dataframe\">\n",
       "  <thead>\n",
       "    <tr style=\"text-align: right;\">\n",
       "      <th></th>\n",
       "      <th>one_hot__dx_type_confocal</th>\n",
       "      <th>one_hot__dx_type_consensus</th>\n",
       "      <th>one_hot__dx_type_follow_up</th>\n",
       "      <th>one_hot__dx_type_histo</th>\n",
       "      <th>remainder__dx</th>\n",
       "      <th>remainder__age</th>\n",
       "      <th>remainder__sex</th>\n",
       "      <th>remainder__localization</th>\n",
       "    </tr>\n",
       "  </thead>\n",
       "  <tbody>\n",
       "    <tr>\n",
       "      <th>0</th>\n",
       "      <td>0.0</td>\n",
       "      <td>0.0</td>\n",
       "      <td>0.0</td>\n",
       "      <td>1.0</td>\n",
       "      <td>nv</td>\n",
       "      <td>0.882353</td>\n",
       "      <td>0.0</td>\n",
       "      <td>0.615385</td>\n",
       "    </tr>\n",
       "    <tr>\n",
       "      <th>1</th>\n",
       "      <td>0.0</td>\n",
       "      <td>0.0</td>\n",
       "      <td>1.0</td>\n",
       "      <td>0.0</td>\n",
       "      <td>nv</td>\n",
       "      <td>0.764706</td>\n",
       "      <td>1.0</td>\n",
       "      <td>0.615385</td>\n",
       "    </tr>\n",
       "    <tr>\n",
       "      <th>2</th>\n",
       "      <td>0.0</td>\n",
       "      <td>0.0</td>\n",
       "      <td>0.0</td>\n",
       "      <td>1.0</td>\n",
       "      <td>nv</td>\n",
       "      <td>0.529412</td>\n",
       "      <td>0.0</td>\n",
       "      <td>0.615385</td>\n",
       "    </tr>\n",
       "  </tbody>\n",
       "</table>\n",
       "</div>"
      ],
      "text/plain": [
       "  one_hot__dx_type_confocal one_hot__dx_type_consensus  \\\n",
       "0                       0.0                        0.0   \n",
       "1                       0.0                        0.0   \n",
       "2                       0.0                        0.0   \n",
       "\n",
       "  one_hot__dx_type_follow_up one_hot__dx_type_histo remainder__dx  \\\n",
       "0                        0.0                    1.0            nv   \n",
       "1                        1.0                    0.0            nv   \n",
       "2                        0.0                    1.0            nv   \n",
       "\n",
       "  remainder__age remainder__sex remainder__localization  \n",
       "0       0.882353            0.0                0.615385  \n",
       "1       0.764706            1.0                0.615385  \n",
       "2       0.529412            0.0                0.615385  "
      ]
     },
     "execution_count": 74,
     "metadata": {},
     "output_type": "execute_result"
    }
   ],
   "source": [
    "metadata_train_df_dxtype.head(3)"
   ]
  },
  {
   "cell_type": "code",
   "execution_count": 75,
   "metadata": {},
   "outputs": [],
   "source": [
    "# Renaming the created 'remainder' columns\n",
    "\n",
    "# TRAIN\n",
    "metadata_train_df_dxtype['dx'] = metadata_train_df_dxtype['remainder__dx']\n",
    "metadata_train_df_dxtype['age'] = metadata_train_df_dxtype['remainder__age']\n",
    "metadata_train_df_dxtype['sex'] = metadata_train_df_dxtype['remainder__sex']\n",
    "metadata_train_df_dxtype['localization'] = metadata_train_df_dxtype['remainder__localization']\n",
    "\n",
    "metadata_train_df_dxtype.drop(columns=[ 'remainder__dx','remainder__age', 'remainder__sex', 'remainder__localization'], axis=1, inplace=True)\n",
    "\n",
    "# VAL\n",
    "metadata_val_df_dxtype['dx'] = metadata_val_df_dxtype['remainder__dx']\n",
    "metadata_val_df_dxtype['age'] = metadata_val_df_dxtype['remainder__age']\n",
    "metadata_val_df_dxtype['sex'] = metadata_val_df_dxtype['remainder__sex']\n",
    "metadata_val_df_dxtype['localization'] = metadata_val_df_dxtype['remainder__localization']\n",
    "\n",
    "metadata_val_df_dxtype.drop(columns=['remainder__dx','remainder__age', 'remainder__sex', 'remainder__localization'], axis=1, inplace=True)\n",
    "\n",
    "# TEST\n",
    "metadata_test_df_dxtype['dx'] = metadata_test_df_dxtype['remainder__dx']\n",
    "metadata_test_df_dxtype['age'] = metadata_test_df_dxtype['remainder__age']\n",
    "metadata_test_df_dxtype['sex'] = metadata_test_df_dxtype['remainder__sex']\n",
    "metadata_test_df_dxtype['localization'] = metadata_test_df_dxtype['remainder__localization']\n",
    "\n",
    "metadata_test_df_dxtype.drop(columns=['remainder__dx', 'remainder__age', 'remainder__sex', 'remainder__localization'], axis=1, inplace=True)"
   ]
  },
  {
   "cell_type": "code",
   "execution_count": 77,
   "metadata": {},
   "outputs": [
    {
     "name": "stdout",
     "output_type": "stream",
     "text": [
      "0: akiec, 1: bcc, 2: bkl, 3: df, 4: mel, 5: nv, 6: vasc\n"
     ]
    }
   ],
   "source": [
    "# Encoding the target column\n",
    "label_encoder = LabelEncoder()\n",
    "\n",
    "metadata_train_df_dxtype['dx'] = label_encoder.fit_transform(metadata_train_df_dxtype['dx'])\n",
    "metadata_val_df_dxtype['dx'] = label_encoder.transform(metadata_val_df_dxtype['dx'])\n",
    "metadata_test_df_dxtype['dx'] = label_encoder.transform(metadata_test_df_dxtype['dx'])\n",
    "\n",
    "# Check the encoding correspondance\n",
    "label_mapping = {i: label for i, label in enumerate(label_encoder.classes_)}\n",
    "print(', '.join(f'{encoded}: {original}' for encoded, original in label_mapping.items()))"
   ]
  },
  {
   "cell_type": "code",
   "execution_count": 78,
   "metadata": {},
   "outputs": [],
   "source": [
    "# Creating a copy of the dataframes\n",
    "metadata_train_na = metadata_train_df_dxtype.copy() \n",
    "metadata_val_na = metadata_val_df_dxtype.copy() \n",
    "metadata_test_na = metadata_test_df_dxtype.copy() "
   ]
  },
  {
   "cell_type": "code",
   "execution_count": 79,
   "metadata": {},
   "outputs": [],
   "source": [
    "# Making the missing values explicit\n",
    "\n",
    "# TRAIN\n",
    "metadata_train_na.localization.replace(0, pd.NA, inplace=True) \n",
    "metadata_train_na.sex.replace(0.5, pd.NA, inplace=True) \n",
    "metadata_train_na.age.replace(0, pd.NA, inplace=True) \n",
    "\n",
    "# VAL\n",
    "metadata_val_na.localization.replace(0, pd.NA, inplace=True) \n",
    "metadata_val_na.sex.replace(0.5, pd.NA, inplace=True) \n",
    "metadata_val_na.age.replace(0, pd.NA, inplace=True) \n",
    "\n",
    "# TEST\n",
    "metadata_test_na.localization.replace(0, pd.NA, inplace=True) \n",
    "metadata_test_na.sex.replace(0.5, pd.NA, inplace=True) \n",
    "metadata_test_na.age.replace(0, pd.NA, inplace=True) "
   ]
  },
  {
   "cell_type": "code",
   "execution_count": 80,
   "metadata": {},
   "outputs": [],
   "source": [
    "# Converting into numeric values\n",
    "\n",
    "# TRAIN\n",
    "metadata_train_na['age'] = pd.to_numeric(metadata_train_na['age'], errors='coerce')\n",
    "metadata_train_na['sex'] = pd.to_numeric(metadata_train_na['sex'], errors='coerce')\n",
    "metadata_train_na['localization'] = pd.to_numeric(metadata_train_na['localization'], errors='coerce')\n",
    "\n",
    "# VAL\n",
    "metadata_val_na['age'] = pd.to_numeric(metadata_val_na['age'], errors='coerce')\n",
    "metadata_val_na['sex'] = pd.to_numeric(metadata_val_na['sex'], errors='coerce')\n",
    "metadata_val_na['localization'] = pd.to_numeric(metadata_val_na['localization'], errors='coerce')\n",
    "\n",
    "# TEST\n",
    "metadata_test_na['age'] = pd.to_numeric(metadata_test_na['age'], errors='coerce')\n",
    "metadata_test_na['sex'] = pd.to_numeric(metadata_test_na['sex'], errors='coerce')\n",
    "metadata_test_na['localization'] = pd.to_numeric(metadata_test_na['localization'], errors='coerce')"
   ]
  },
  {
   "cell_type": "code",
   "execution_count": 82,
   "metadata": {},
   "outputs": [
    {
     "data": {
      "text/plain": [
       "one_hot__dx_type_confocal       0\n",
       "one_hot__dx_type_consensus      0\n",
       "one_hot__dx_type_follow_up      0\n",
       "one_hot__dx_type_histo          0\n",
       "dx                              0\n",
       "age                           128\n",
       "sex                            54\n",
       "localization                  201\n",
       "dtype: int64"
      ]
     },
     "execution_count": 82,
     "metadata": {},
     "output_type": "execute_result"
    }
   ],
   "source": [
    "metadata_train_na.isna().sum()"
   ]
  },
  {
   "cell_type": "code",
   "execution_count": 83,
   "metadata": {},
   "outputs": [],
   "source": [
    "# Imputing the missing values with KNNImputer\n",
    "imputer = KNNImputer(n_neighbors = 3)\n",
    "metadata_train_imputed = imputer.fit_transform(metadata_train_na)\n",
    "metadata_val_imputed = imputer.transform(metadata_val_na)\n",
    "metadata_test_imputed = imputer.transform(metadata_test_na)"
   ]
  },
  {
   "cell_type": "code",
   "execution_count": 86,
   "metadata": {},
   "outputs": [],
   "source": [
    "# Creating dataframes with the imputed data\n",
    "metadata_train = pd.DataFrame(metadata_train_imputed, columns=metadata_train_na.columns)\n",
    "metadata_val = pd.DataFrame(metadata_val_imputed, columns=metadata_val_na.columns)\n",
    "metadata_test = pd.DataFrame(metadata_test_imputed, columns=metadata_test_na.columns)"
   ]
  },
  {
   "cell_type": "code",
   "execution_count": 88,
   "metadata": {},
   "outputs": [
    {
     "data": {
      "text/plain": [
       "one_hot__dx_type_confocal     0\n",
       "one_hot__dx_type_consensus    0\n",
       "one_hot__dx_type_follow_up    0\n",
       "one_hot__dx_type_histo        0\n",
       "dx                            0\n",
       "age                           0\n",
       "sex                           0\n",
       "localization                  0\n",
       "dtype: int64"
      ]
     },
     "execution_count": 88,
     "metadata": {},
     "output_type": "execute_result"
    }
   ],
   "source": [
    "metadata_train.isna().sum()"
   ]
  },
  {
   "cell_type": "code",
   "execution_count": 89,
   "metadata": {},
   "outputs": [],
   "source": [
    "# Separating data and target\n",
    "y_train_meta = metadata_train.iloc[:, 4]\n",
    "X_train_meta = metadata_train.iloc[:, :4].join(metadata_train.iloc[:, 5:])\n",
    "\n",
    "y_val_meta = metadata_val.iloc[:, 4]\n",
    "X_val_meta = metadata_val.iloc[:, :4].join(metadata_val.iloc[:, 5:])\n",
    "\n",
    "y_test_meta = metadata_test.iloc[:, 4]\n",
    "X_test_meta = metadata_test.iloc[:, :4].join(metadata_test.iloc[:, 5:])"
   ]
  },
  {
   "cell_type": "code",
   "execution_count": 90,
   "metadata": {},
   "outputs": [
    {
     "data": {
      "text/html": [
       "<div>\n",
       "<style scoped>\n",
       "    .dataframe tbody tr th:only-of-type {\n",
       "        vertical-align: middle;\n",
       "    }\n",
       "\n",
       "    .dataframe tbody tr th {\n",
       "        vertical-align: top;\n",
       "    }\n",
       "\n",
       "    .dataframe thead th {\n",
       "        text-align: right;\n",
       "    }\n",
       "</style>\n",
       "<table border=\"1\" class=\"dataframe\">\n",
       "  <thead>\n",
       "    <tr style=\"text-align: right;\">\n",
       "      <th></th>\n",
       "      <th>one_hot__dx_type_confocal</th>\n",
       "      <th>one_hot__dx_type_consensus</th>\n",
       "      <th>one_hot__dx_type_follow_up</th>\n",
       "      <th>one_hot__dx_type_histo</th>\n",
       "      <th>age</th>\n",
       "      <th>sex</th>\n",
       "      <th>localization</th>\n",
       "    </tr>\n",
       "  </thead>\n",
       "  <tbody>\n",
       "    <tr>\n",
       "      <th>0</th>\n",
       "      <td>0.0</td>\n",
       "      <td>0.0</td>\n",
       "      <td>0.0</td>\n",
       "      <td>1.0</td>\n",
       "      <td>0.882353</td>\n",
       "      <td>0.0</td>\n",
       "      <td>0.615385</td>\n",
       "    </tr>\n",
       "    <tr>\n",
       "      <th>1</th>\n",
       "      <td>0.0</td>\n",
       "      <td>0.0</td>\n",
       "      <td>1.0</td>\n",
       "      <td>0.0</td>\n",
       "      <td>0.764706</td>\n",
       "      <td>1.0</td>\n",
       "      <td>0.615385</td>\n",
       "    </tr>\n",
       "    <tr>\n",
       "      <th>2</th>\n",
       "      <td>0.0</td>\n",
       "      <td>0.0</td>\n",
       "      <td>0.0</td>\n",
       "      <td>1.0</td>\n",
       "      <td>0.529412</td>\n",
       "      <td>0.0</td>\n",
       "      <td>0.615385</td>\n",
       "    </tr>\n",
       "    <tr>\n",
       "      <th>3</th>\n",
       "      <td>0.0</td>\n",
       "      <td>0.0</td>\n",
       "      <td>0.0</td>\n",
       "      <td>1.0</td>\n",
       "      <td>0.764706</td>\n",
       "      <td>0.0</td>\n",
       "      <td>0.076923</td>\n",
       "    </tr>\n",
       "    <tr>\n",
       "      <th>4</th>\n",
       "      <td>0.0</td>\n",
       "      <td>0.0</td>\n",
       "      <td>0.0</td>\n",
       "      <td>1.0</td>\n",
       "      <td>0.470588</td>\n",
       "      <td>1.0</td>\n",
       "      <td>0.923077</td>\n",
       "    </tr>\n",
       "    <tr>\n",
       "      <th>...</th>\n",
       "      <td>...</td>\n",
       "      <td>...</td>\n",
       "      <td>...</td>\n",
       "      <td>...</td>\n",
       "      <td>...</td>\n",
       "      <td>...</td>\n",
       "      <td>...</td>\n",
       "    </tr>\n",
       "    <tr>\n",
       "      <th>14003</th>\n",
       "      <td>0.0</td>\n",
       "      <td>1.0</td>\n",
       "      <td>0.0</td>\n",
       "      <td>0.0</td>\n",
       "      <td>0.823529</td>\n",
       "      <td>0.0</td>\n",
       "      <td>0.615385</td>\n",
       "    </tr>\n",
       "    <tr>\n",
       "      <th>14004</th>\n",
       "      <td>0.0</td>\n",
       "      <td>0.0</td>\n",
       "      <td>0.0</td>\n",
       "      <td>1.0</td>\n",
       "      <td>0.176471</td>\n",
       "      <td>1.0</td>\n",
       "      <td>0.076923</td>\n",
       "    </tr>\n",
       "    <tr>\n",
       "      <th>14005</th>\n",
       "      <td>0.0</td>\n",
       "      <td>1.0</td>\n",
       "      <td>0.0</td>\n",
       "      <td>0.0</td>\n",
       "      <td>0.411765</td>\n",
       "      <td>1.0</td>\n",
       "      <td>0.461538</td>\n",
       "    </tr>\n",
       "    <tr>\n",
       "      <th>14006</th>\n",
       "      <td>0.0</td>\n",
       "      <td>0.0</td>\n",
       "      <td>0.0</td>\n",
       "      <td>1.0</td>\n",
       "      <td>0.235294</td>\n",
       "      <td>1.0</td>\n",
       "      <td>0.846154</td>\n",
       "    </tr>\n",
       "    <tr>\n",
       "      <th>14007</th>\n",
       "      <td>0.0</td>\n",
       "      <td>0.0</td>\n",
       "      <td>0.0</td>\n",
       "      <td>1.0</td>\n",
       "      <td>0.176471</td>\n",
       "      <td>1.0</td>\n",
       "      <td>0.384615</td>\n",
       "    </tr>\n",
       "  </tbody>\n",
       "</table>\n",
       "<p>14008 rows × 7 columns</p>\n",
       "</div>"
      ],
      "text/plain": [
       "       one_hot__dx_type_confocal  one_hot__dx_type_consensus  \\\n",
       "0                            0.0                         0.0   \n",
       "1                            0.0                         0.0   \n",
       "2                            0.0                         0.0   \n",
       "3                            0.0                         0.0   \n",
       "4                            0.0                         0.0   \n",
       "...                          ...                         ...   \n",
       "14003                        0.0                         1.0   \n",
       "14004                        0.0                         0.0   \n",
       "14005                        0.0                         1.0   \n",
       "14006                        0.0                         0.0   \n",
       "14007                        0.0                         0.0   \n",
       "\n",
       "       one_hot__dx_type_follow_up  one_hot__dx_type_histo       age  sex  \\\n",
       "0                             0.0                     1.0  0.882353  0.0   \n",
       "1                             1.0                     0.0  0.764706  1.0   \n",
       "2                             0.0                     1.0  0.529412  0.0   \n",
       "3                             0.0                     1.0  0.764706  0.0   \n",
       "4                             0.0                     1.0  0.470588  1.0   \n",
       "...                           ...                     ...       ...  ...   \n",
       "14003                         0.0                     0.0  0.823529  0.0   \n",
       "14004                         0.0                     1.0  0.176471  1.0   \n",
       "14005                         0.0                     0.0  0.411765  1.0   \n",
       "14006                         0.0                     1.0  0.235294  1.0   \n",
       "14007                         0.0                     1.0  0.176471  1.0   \n",
       "\n",
       "       localization  \n",
       "0          0.615385  \n",
       "1          0.615385  \n",
       "2          0.615385  \n",
       "3          0.076923  \n",
       "4          0.923077  \n",
       "...             ...  \n",
       "14003      0.615385  \n",
       "14004      0.076923  \n",
       "14005      0.461538  \n",
       "14006      0.846154  \n",
       "14007      0.384615  \n",
       "\n",
       "[14008 rows x 7 columns]"
      ]
     },
     "execution_count": 90,
     "metadata": {},
     "output_type": "execute_result"
    }
   ],
   "source": [
    "X_train_meta"
   ]
  },
  {
   "cell_type": "code",
   "execution_count": 91,
   "metadata": {},
   "outputs": [],
   "source": [
    "# Converting data into tensors\n",
    "X_train_meta = tf.convert_to_tensor(X_train_meta, dtype=tf.float32)\n",
    "y_train_meta = tf.convert_to_tensor(y_train_meta, dtype=tf.float32)\n",
    "X_val_meta = tf.convert_to_tensor(X_val_meta, dtype=tf.float32)\n",
    "y_val_meta = tf.convert_to_tensor(y_val_meta, dtype=tf.float32)\n",
    "X_test_meta = tf.convert_to_tensor(X_test_meta, dtype=tf.float32)\n",
    "y_test_meta = tf.convert_to_tensor(y_test_meta, dtype=tf.float32)"
   ]
  },
  {
   "cell_type": "markdown",
   "metadata": {},
   "source": [
    "### Metadata Modelling\n",
    "<a id='meta-modeling'></a>"
   ]
  },
  {
   "cell_type": "code",
   "execution_count": null,
   "metadata": {},
   "outputs": [],
   "source": [
    "# Defining callbacks\n",
    "stop_early = EarlyStopping(monitor = 'val_loss', patience = 3)"
   ]
  },
  {
   "cell_type": "code",
   "execution_count": 642,
   "metadata": {},
   "outputs": [
    {
     "name": "stdout",
     "output_type": "stream",
     "text": [
      "Epoch 1/100\n",
      "47/47 [==============================] - 4s 41ms/step - loss: 1.3954 - accuracy: 0.4210 - val_loss: 1.1589 - val_accuracy: 0.5196\n",
      "Epoch 2/100\n",
      "47/47 [==============================] - 2s 37ms/step - loss: 1.2434 - accuracy: 0.4935 - val_loss: 1.0630 - val_accuracy: 0.5536\n",
      "Epoch 3/100\n",
      "47/47 [==============================] - 2s 36ms/step - loss: 1.2051 - accuracy: 0.5163 - val_loss: 1.0065 - val_accuracy: 0.5642\n",
      "Epoch 4/100\n",
      "47/47 [==============================] - 2s 36ms/step - loss: 1.1846 - accuracy: 0.5233 - val_loss: 1.0071 - val_accuracy: 0.5735\n",
      "Epoch 5/100\n",
      "47/47 [==============================] - 2s 39ms/step - loss: 1.1779 - accuracy: 0.5265 - val_loss: 0.9850 - val_accuracy: 0.5855\n",
      "Epoch 6/100\n",
      "47/47 [==============================] - 2s 41ms/step - loss: 1.1642 - accuracy: 0.5332 - val_loss: 1.0050 - val_accuracy: 0.5875\n",
      "Epoch 7/100\n",
      "47/47 [==============================] - 2s 41ms/step - loss: 1.1568 - accuracy: 0.5351 - val_loss: 0.9485 - val_accuracy: 0.5855\n",
      "Epoch 8/100\n",
      "47/47 [==============================] - 2s 38ms/step - loss: 1.1525 - accuracy: 0.5364 - val_loss: 0.9876 - val_accuracy: 0.5735\n",
      "Epoch 9/100\n",
      "47/47 [==============================] - 2s 40ms/step - loss: 1.1429 - accuracy: 0.5376 - val_loss: 0.9415 - val_accuracy: 0.6015\n",
      "Epoch 10/100\n",
      "47/47 [==============================] - 2s 42ms/step - loss: 1.1422 - accuracy: 0.5388 - val_loss: 0.9671 - val_accuracy: 0.6061\n",
      "Epoch 11/100\n",
      "47/47 [==============================] - 2s 41ms/step - loss: 1.1292 - accuracy: 0.5475 - val_loss: 0.9712 - val_accuracy: 0.6035\n",
      "Epoch 12/100\n",
      "47/47 [==============================] - 2s 41ms/step - loss: 1.1240 - accuracy: 0.5451 - val_loss: 0.9965 - val_accuracy: 0.5802\n",
      "Epoch 13/100\n",
      "47/47 [==============================] - 2s 43ms/step - loss: 1.1214 - accuracy: 0.5464 - val_loss: 0.9794 - val_accuracy: 0.5902\n",
      "Epoch 14/100\n",
      "47/47 [==============================] - 2s 42ms/step - loss: 1.1157 - accuracy: 0.5471 - val_loss: 0.9979 - val_accuracy: 0.5868\n",
      "Epoch 15/100\n",
      "47/47 [==============================] - 2s 42ms/step - loss: 1.1043 - accuracy: 0.5480 - val_loss: 1.0051 - val_accuracy: 0.5828\n",
      "Epoch 16/100\n",
      "47/47 [==============================] - 2s 43ms/step - loss: 1.1049 - accuracy: 0.5501 - val_loss: 0.9955 - val_accuracy: 0.5948\n",
      "Epoch 17/100\n",
      "47/47 [==============================] - 2s 43ms/step - loss: 1.1003 - accuracy: 0.5511 - val_loss: 0.9440 - val_accuracy: 0.5935\n",
      "Epoch 18/100\n",
      "47/47 [==============================] - 2s 41ms/step - loss: 1.0859 - accuracy: 0.5558 - val_loss: 0.9572 - val_accuracy: 0.5862\n",
      "Epoch 19/100\n",
      "47/47 [==============================] - 2s 40ms/step - loss: 1.0841 - accuracy: 0.5598 - val_loss: 0.9308 - val_accuracy: 0.6161\n",
      "Epoch 20/100\n",
      "47/47 [==============================] - 2s 39ms/step - loss: 1.0719 - accuracy: 0.5637 - val_loss: 0.9494 - val_accuracy: 0.6035\n",
      "Epoch 21/100\n",
      "47/47 [==============================] - 2s 38ms/step - loss: 1.0758 - accuracy: 0.5664 - val_loss: 0.9307 - val_accuracy: 0.6214\n",
      "Epoch 22/100\n",
      "47/47 [==============================] - 2s 43ms/step - loss: 1.0649 - accuracy: 0.5645 - val_loss: 0.9929 - val_accuracy: 0.5842\n",
      "Epoch 23/100\n",
      "47/47 [==============================] - 2s 43ms/step - loss: 1.0591 - accuracy: 0.5685 - val_loss: 0.9738 - val_accuracy: 0.6081\n",
      "Epoch 24/100\n",
      "47/47 [==============================] - 2s 39ms/step - loss: 1.0534 - accuracy: 0.5687 - val_loss: 0.9849 - val_accuracy: 0.5842\n",
      "Epoch 25/100\n",
      "47/47 [==============================] - 2s 38ms/step - loss: 1.0448 - accuracy: 0.5746 - val_loss: 0.9657 - val_accuracy: 0.6094\n",
      "Epoch 26/100\n",
      "47/47 [==============================] - 2s 40ms/step - loss: 1.0312 - accuracy: 0.5822 - val_loss: 0.9659 - val_accuracy: 0.6048\n",
      "Epoch 27/100\n",
      "47/47 [==============================] - 2s 38ms/step - loss: 1.0252 - accuracy: 0.5776 - val_loss: 0.9396 - val_accuracy: 0.6055\n",
      "Epoch 28/100\n",
      "47/47 [==============================] - 2s 45ms/step - loss: 1.0278 - accuracy: 0.5800 - val_loss: 0.9148 - val_accuracy: 0.6214\n",
      "Epoch 29/100\n",
      "47/47 [==============================] - 2s 42ms/step - loss: 1.0194 - accuracy: 0.5844 - val_loss: 0.9400 - val_accuracy: 0.6021\n",
      "Epoch 30/100\n",
      "47/47 [==============================] - 2s 41ms/step - loss: 1.0124 - accuracy: 0.5874 - val_loss: 0.9396 - val_accuracy: 0.6101\n",
      "Epoch 31/100\n",
      "47/47 [==============================] - 2s 43ms/step - loss: 1.0059 - accuracy: 0.5889 - val_loss: 0.9556 - val_accuracy: 0.6048\n",
      "Epoch 32/100\n",
      "47/47 [==============================] - 2s 40ms/step - loss: 1.0082 - accuracy: 0.5884 - val_loss: 0.9357 - val_accuracy: 0.6108\n",
      "Epoch 33/100\n",
      "47/47 [==============================] - 2s 39ms/step - loss: 1.0021 - accuracy: 0.5917 - val_loss: 0.9709 - val_accuracy: 0.6048\n",
      "Epoch 34/100\n",
      "47/47 [==============================] - 2s 41ms/step - loss: 0.9950 - accuracy: 0.5972 - val_loss: 0.9392 - val_accuracy: 0.6121\n",
      "Epoch 35/100\n",
      "47/47 [==============================] - 2s 41ms/step - loss: 0.9972 - accuracy: 0.5924 - val_loss: 0.9830 - val_accuracy: 0.5828\n",
      "Epoch 36/100\n",
      "47/47 [==============================] - 2s 41ms/step - loss: 0.9909 - accuracy: 0.5964 - val_loss: 0.9648 - val_accuracy: 0.5961\n",
      "Epoch 37/100\n",
      "47/47 [==============================] - 2s 43ms/step - loss: 0.9773 - accuracy: 0.6014 - val_loss: 0.9225 - val_accuracy: 0.6141\n",
      "Epoch 38/100\n",
      "47/47 [==============================] - 2s 40ms/step - loss: 0.9757 - accuracy: 0.6008 - val_loss: 0.9276 - val_accuracy: 0.6214\n",
      "Epoch 39/100\n",
      "47/47 [==============================] - 2s 43ms/step - loss: 0.9718 - accuracy: 0.6051 - val_loss: 0.9424 - val_accuracy: 0.6201\n",
      "Epoch 40/100\n",
      "47/47 [==============================] - 2s 43ms/step - loss: 0.9683 - accuracy: 0.6069 - val_loss: 1.0139 - val_accuracy: 0.5828\n",
      "Epoch 41/100\n",
      "47/47 [==============================] - 2s 42ms/step - loss: 0.9733 - accuracy: 0.6012 - val_loss: 0.9768 - val_accuracy: 0.5935\n",
      "Epoch 42/100\n",
      "47/47 [==============================] - 2s 43ms/step - loss: 0.9606 - accuracy: 0.6099 - val_loss: 0.9360 - val_accuracy: 0.6148\n",
      "Epoch 43/100\n",
      "47/47 [==============================] - 2s 45ms/step - loss: 0.9576 - accuracy: 0.6107 - val_loss: 0.9831 - val_accuracy: 0.6048\n",
      "Epoch 44/100\n",
      "47/47 [==============================] - 2s 44ms/step - loss: 0.9672 - accuracy: 0.6084 - val_loss: 0.9506 - val_accuracy: 0.6141\n",
      "Epoch 45/100\n",
      "47/47 [==============================] - 2s 46ms/step - loss: 0.9624 - accuracy: 0.6086 - val_loss: 0.9257 - val_accuracy: 0.6148\n",
      "Epoch 46/100\n",
      "47/47 [==============================] - 2s 44ms/step - loss: 0.9475 - accuracy: 0.6148 - val_loss: 0.9412 - val_accuracy: 0.6081\n",
      "Epoch 47/100\n",
      "47/47 [==============================] - 2s 45ms/step - loss: 0.9505 - accuracy: 0.6124 - val_loss: 0.9209 - val_accuracy: 0.6121\n",
      "Epoch 48/100\n",
      "47/47 [==============================] - 2s 46ms/step - loss: 0.9476 - accuracy: 0.6112 - val_loss: 0.9314 - val_accuracy: 0.6088\n",
      "Epoch 49/100\n",
      "47/47 [==============================] - 2s 45ms/step - loss: 0.9358 - accuracy: 0.6212 - val_loss: 0.9284 - val_accuracy: 0.6134\n",
      "Epoch 50/100\n",
      "47/47 [==============================] - 2s 42ms/step - loss: 0.9454 - accuracy: 0.6132 - val_loss: 0.9446 - val_accuracy: 0.6068\n",
      "Epoch 51/100\n",
      "47/47 [==============================] - 2s 38ms/step - loss: 0.9409 - accuracy: 0.6153 - val_loss: 0.9503 - val_accuracy: 0.6114\n",
      "Epoch 52/100\n",
      "47/47 [==============================] - 2s 39ms/step - loss: 0.9376 - accuracy: 0.6157 - val_loss: 0.9421 - val_accuracy: 0.6068\n",
      "Epoch 53/100\n",
      "47/47 [==============================] - 2s 39ms/step - loss: 0.9411 - accuracy: 0.6133 - val_loss: 0.9514 - val_accuracy: 0.6121\n",
      "Epoch 54/100\n",
      "47/47 [==============================] - 2s 40ms/step - loss: 0.9305 - accuracy: 0.6201 - val_loss: 1.0004 - val_accuracy: 0.5749\n",
      "Epoch 55/100\n",
      "47/47 [==============================] - 2s 41ms/step - loss: 0.9237 - accuracy: 0.6236 - val_loss: 0.9430 - val_accuracy: 0.6101\n",
      "Epoch 56/100\n",
      "47/47 [==============================] - 2s 38ms/step - loss: 0.9217 - accuracy: 0.6214 - val_loss: 0.9134 - val_accuracy: 0.6208\n",
      "Epoch 57/100\n",
      "47/47 [==============================] - 2s 41ms/step - loss: 0.9195 - accuracy: 0.6217 - val_loss: 0.9085 - val_accuracy: 0.6214\n",
      "Epoch 58/100\n",
      "47/47 [==============================] - 2s 39ms/step - loss: 0.9158 - accuracy: 0.6258 - val_loss: 0.9797 - val_accuracy: 0.6134\n",
      "Epoch 59/100\n",
      "47/47 [==============================] - 2s 39ms/step - loss: 0.9144 - accuracy: 0.6246 - val_loss: 0.9458 - val_accuracy: 0.6201\n",
      "Epoch 60/100\n",
      "47/47 [==============================] - 2s 41ms/step - loss: 0.9130 - accuracy: 0.6291 - val_loss: 0.9448 - val_accuracy: 0.6181\n",
      "Epoch 61/100\n",
      "47/47 [==============================] - 2s 39ms/step - loss: 0.9180 - accuracy: 0.6261 - val_loss: 0.9566 - val_accuracy: 0.5955\n",
      "Epoch 62/100\n",
      "47/47 [==============================] - 2s 39ms/step - loss: 0.9100 - accuracy: 0.6262 - val_loss: 0.9117 - val_accuracy: 0.6214\n",
      "Epoch 63/100\n",
      "47/47 [==============================] - 2s 39ms/step - loss: 0.9090 - accuracy: 0.6286 - val_loss: 0.9387 - val_accuracy: 0.6241\n",
      "Epoch 64/100\n",
      "47/47 [==============================] - 2s 39ms/step - loss: 0.9049 - accuracy: 0.6324 - val_loss: 0.9394 - val_accuracy: 0.6201\n",
      "Epoch 65/100\n",
      "47/47 [==============================] - 2s 39ms/step - loss: 0.9131 - accuracy: 0.6299 - val_loss: 0.9323 - val_accuracy: 0.6334\n",
      "Epoch 66/100\n",
      "47/47 [==============================] - 2s 38ms/step - loss: 0.9036 - accuracy: 0.6304 - val_loss: 0.9703 - val_accuracy: 0.6161\n",
      "Epoch 67/100\n",
      "47/47 [==============================] - 2s 39ms/step - loss: 0.8992 - accuracy: 0.6338 - val_loss: 0.9463 - val_accuracy: 0.6048\n",
      "Epoch 68/100\n",
      "47/47 [==============================] - 2s 40ms/step - loss: 0.8997 - accuracy: 0.6296 - val_loss: 0.9707 - val_accuracy: 0.6088\n",
      "Epoch 69/100\n",
      "47/47 [==============================] - 2s 39ms/step - loss: 0.8966 - accuracy: 0.6320 - val_loss: 0.9654 - val_accuracy: 0.5921\n",
      "Epoch 70/100\n",
      "47/47 [==============================] - 2s 37ms/step - loss: 0.8928 - accuracy: 0.6341 - val_loss: 0.9160 - val_accuracy: 0.6387\n",
      "Epoch 71/100\n",
      "47/47 [==============================] - 2s 37ms/step - loss: 0.8951 - accuracy: 0.6355 - val_loss: 0.9428 - val_accuracy: 0.6181\n",
      "Epoch 72/100\n",
      "47/47 [==============================] - 2s 39ms/step - loss: 0.8962 - accuracy: 0.6351 - val_loss: 0.9809 - val_accuracy: 0.5928\n",
      "Epoch 73/100\n",
      "47/47 [==============================] - 2s 40ms/step - loss: 0.8916 - accuracy: 0.6321 - val_loss: 0.9307 - val_accuracy: 0.6241\n",
      "Epoch 74/100\n",
      "47/47 [==============================] - 2s 42ms/step - loss: 0.8939 - accuracy: 0.6317 - val_loss: 0.9355 - val_accuracy: 0.6208\n",
      "Epoch 75/100\n",
      "47/47 [==============================] - 2s 39ms/step - loss: 0.8889 - accuracy: 0.6366 - val_loss: 0.9293 - val_accuracy: 0.6261\n",
      "Epoch 76/100\n",
      "47/47 [==============================] - 2s 37ms/step - loss: 0.8892 - accuracy: 0.6374 - val_loss: 0.9401 - val_accuracy: 0.6347\n",
      "Epoch 77/100\n",
      "47/47 [==============================] - 2s 39ms/step - loss: 0.8898 - accuracy: 0.6325 - val_loss: 0.9171 - val_accuracy: 0.6401\n",
      "Epoch 78/100\n",
      "47/47 [==============================] - 2s 38ms/step - loss: 0.8845 - accuracy: 0.6359 - val_loss: 0.9534 - val_accuracy: 0.6234\n",
      "Epoch 79/100\n",
      "47/47 [==============================] - 2s 41ms/step - loss: 0.8799 - accuracy: 0.6393 - val_loss: 0.9294 - val_accuracy: 0.6214\n",
      "Epoch 80/100\n",
      "47/47 [==============================] - 2s 41ms/step - loss: 0.8810 - accuracy: 0.6387 - val_loss: 0.9729 - val_accuracy: 0.6081\n",
      "Epoch 81/100\n",
      "47/47 [==============================] - 2s 38ms/step - loss: 0.8821 - accuracy: 0.6413 - val_loss: 0.9137 - val_accuracy: 0.6314\n",
      "Epoch 82/100\n",
      "47/47 [==============================] - 2s 37ms/step - loss: 0.8885 - accuracy: 0.6374 - val_loss: 0.9539 - val_accuracy: 0.6228\n",
      "Epoch 83/100\n",
      "47/47 [==============================] - 2s 36ms/step - loss: 0.8847 - accuracy: 0.6331 - val_loss: 0.9358 - val_accuracy: 0.6241\n",
      "Epoch 84/100\n",
      "47/47 [==============================] - 2s 40ms/step - loss: 0.8730 - accuracy: 0.6407 - val_loss: 0.9632 - val_accuracy: 0.6188\n",
      "Epoch 85/100\n",
      "47/47 [==============================] - 2s 39ms/step - loss: 0.8754 - accuracy: 0.6418 - val_loss: 0.9863 - val_accuracy: 0.5902\n",
      "Epoch 86/100\n",
      "47/47 [==============================] - 2s 38ms/step - loss: 0.8773 - accuracy: 0.6413 - val_loss: 0.9425 - val_accuracy: 0.6248\n",
      "Epoch 87/100\n",
      "47/47 [==============================] - 2s 40ms/step - loss: 0.8763 - accuracy: 0.6397 - val_loss: 0.9387 - val_accuracy: 0.6228\n",
      "Epoch 88/100\n",
      "47/47 [==============================] - 2s 38ms/step - loss: 0.8718 - accuracy: 0.6422 - val_loss: 0.9528 - val_accuracy: 0.6134\n",
      "Epoch 89/100\n",
      "47/47 [==============================] - 2s 38ms/step - loss: 0.8726 - accuracy: 0.6431 - val_loss: 0.9509 - val_accuracy: 0.6194\n",
      "Epoch 90/100\n",
      "47/47 [==============================] - 2s 39ms/step - loss: 0.8739 - accuracy: 0.6383 - val_loss: 0.8935 - val_accuracy: 0.6274\n",
      "Epoch 91/100\n",
      "47/47 [==============================] - 2s 37ms/step - loss: 0.8716 - accuracy: 0.6421 - val_loss: 0.9453 - val_accuracy: 0.6154\n",
      "Epoch 92/100\n",
      "47/47 [==============================] - 2s 35ms/step - loss: 0.8645 - accuracy: 0.6461 - val_loss: 0.9234 - val_accuracy: 0.6267\n",
      "Epoch 93/100\n",
      "47/47 [==============================] - 2s 36ms/step - loss: 0.8681 - accuracy: 0.6436 - val_loss: 0.9209 - val_accuracy: 0.6201\n",
      "Epoch 94/100\n",
      "47/47 [==============================] - 2s 37ms/step - loss: 0.8655 - accuracy: 0.6466 - val_loss: 0.9333 - val_accuracy: 0.6447\n",
      "Epoch 95/100\n",
      "47/47 [==============================] - 2s 38ms/step - loss: 0.8676 - accuracy: 0.6427 - val_loss: 0.9630 - val_accuracy: 0.6254\n",
      "Epoch 96/100\n",
      "47/47 [==============================] - 2s 39ms/step - loss: 0.8661 - accuracy: 0.6431 - val_loss: 0.9815 - val_accuracy: 0.6194\n",
      "Epoch 97/100\n",
      "47/47 [==============================] - 2s 40ms/step - loss: 0.8632 - accuracy: 0.6447 - val_loss: 0.9506 - val_accuracy: 0.6128\n",
      "Epoch 98/100\n",
      "47/47 [==============================] - 2s 40ms/step - loss: 0.8610 - accuracy: 0.6473 - val_loss: 0.9220 - val_accuracy: 0.6254\n",
      "Epoch 99/100\n",
      "47/47 [==============================] - 2s 38ms/step - loss: 0.8760 - accuracy: 0.6449 - val_loss: 0.9396 - val_accuracy: 0.6214\n",
      "Epoch 100/100\n",
      "47/47 [==============================] - 2s 39ms/step - loss: 0.8619 - accuracy: 0.6458 - val_loss: 0.9517 - val_accuracy: 0.6148\n"
     ]
    }
   ],
   "source": [
    "# Defining the model\n",
    "model = Sequential()\n",
    "model.add(Dense(512, activation='relu'))\n",
    "model.add(Dense(512, activation='relu'))\n",
    "model.add(Dropout(0.1))\n",
    "model.add(Dense(512, activation='relu'))\n",
    "model.add(Dense(128, activation='relu')) # kernel_regularizer=regularizers.L2(0.001))) #complex nn, alpha = [0.001-0.1], for more data between [0.1-0.2]\n",
    "model.add(Dense(7, activation = 'softmax'))\n",
    "\n",
    "# Compiling the model\n",
    "model.compile(optimizer='adam', loss='sparse_categorical_crossentropy', metrics=['accuracy'])\n",
    "\n",
    "# Fitting the model\n",
    "history = model.fit(X_train_meta, y_train_meta, validation_data=[X_val_meta,y_val_meta], epochs= 100, batch_size= 300)"
   ]
  },
  {
   "cell_type": "code",
   "execution_count": null,
   "metadata": {},
   "outputs": [],
   "source": [
    "# Getting the model performance metrics\n",
    "acc = history.history['accuracy']\n",
    "val_acc = history.history['val_accuracy']\n",
    "loss = history.history['loss']\n",
    "val_loss = history.history['val_loss']\n",
    "epochs = range(1, len(acc) + 1)"
   ]
  },
  {
   "cell_type": "code",
   "execution_count": 644,
   "metadata": {},
   "outputs": [
    {
     "data": {
      "image/png": "[encoded data removed]",
      "text/plain": [
       "<Figure size 432x288 with 1 Axes>"
      ]
     },
     "metadata": {
      "needs_background": "light"
     },
     "output_type": "display_data"
    }
   ],
   "source": [
    "# Plotting the loss\n",
    "plt.plot(epochs, loss, 'bo', label='Training loss')\n",
    "plt.plot(epochs, val_loss, 'b', label='Validation loss')\n",
    "plt.title('Training and validation loss')\n",
    "plt.xlabel('Epochs')\n",
    "plt.ylabel('Loss')\n",
    "plt.legend()\n",
    "plt.show()"
   ]
  },
  {
   "cell_type": "code",
   "execution_count": 645,
   "metadata": {},
   "outputs": [
    {
     "data": {
      "image/png": "[encoded data removed]",
      "text/plain": [
       "<Figure size 432x288 with 1 Axes>"
      ]
     },
     "metadata": {
      "needs_background": "light"
     },
     "output_type": "display_data"
    }
   ],
   "source": [
    "# Plotting the accuracy\n",
    "plt.clf()\n",
    "plt.plot(epochs, acc, 'bo', label='Training acc')\n",
    "plt.plot(epochs, val_acc, 'b', label='Validation acc')\n",
    "plt.title('Training and validation accuracy')\n",
    "plt.xlabel('Epochs')\n",
    "plt.ylabel('Accuracy')\n",
    "plt.legend()\n",
    "plt.show()"
   ]
  },
  {
   "cell_type": "code",
   "execution_count": 608,
   "metadata": {},
   "outputs": [
    {
     "name": "stdout",
     "output_type": "stream",
     "text": [
      "438/438 [==============================] - 2s 4ms/step\n",
      "47/47 [==============================] - 0s 4ms/step\n"
     ]
    }
   ],
   "source": [
    "# Making predictions\n",
    "y_train_predicted = model.predict(X_train_meta)\n",
    "y_train_predicted= np.argmax(y_train_predicted,axis=1)\n",
    "y_val_predicted= model.predict(X_val_meta)\n",
    "y_val_predicted= np.argmax(y_val_predicted,axis=1)"
   ]
  },
  {
   "cell_type": "code",
   "execution_count": 609,
   "metadata": {},
   "outputs": [
    {
     "name": "stdout",
     "output_type": "stream",
     "text": [
      "___________________________________________________________________________________________________________\n",
      "                                                     TRAIN                                                 \n",
      "-----------------------------------------------------------------------------------------------------------\n",
      "              precision    recall  f1-score   support\n",
      "\n",
      "         0.0       0.46      0.72      0.56      1750\n",
      "         1.0       0.42      0.51      0.46      1750\n",
      "         2.0       0.73      0.27      0.40      1750\n",
      "         3.0       0.64      0.95      0.77      1750\n",
      "         4.0       0.42      0.19      0.26      1750\n",
      "         5.0       0.94      0.78      0.85      3508\n",
      "         6.0       0.71      0.89      0.79      1750\n",
      "\n",
      "    accuracy                           0.64     14008\n",
      "   macro avg       0.62      0.62      0.58     14008\n",
      "weighted avg       0.66      0.64      0.62     14008\n",
      "\n",
      "0.635850942318675\n",
      "[[1255  251    9  150   49    0   36]\n",
      " [ 394  894   49  142  134   52   85]\n",
      " [ 417  315  474  191   74   27  252]\n",
      " [  83    0    0 1667    0    0    0]\n",
      " [ 418  461   60  254  324   97  136]\n",
      " [ 109  199   55  118  162 2731  134]\n",
      " [  77   21    0   69   21    0 1562]]\n",
      "___________________________________________________________________________________________________________\n",
      "                                                VALIDATION                                                 \n",
      "-----------------------------------------------------------------------------------------------------------\n",
      "              precision    recall  f1-score   support\n",
      "\n",
      "         0.0       0.15      0.61      0.24        49\n",
      "         1.0       0.17      0.42      0.25        77\n",
      "         2.0       0.54      0.22      0.31       165\n",
      "         3.0       0.12      0.76      0.21        17\n",
      "         4.0       0.31      0.17      0.22       167\n",
      "         5.0       0.98      0.74      0.84      1006\n",
      "         6.0       0.12      0.50      0.20        22\n",
      "\n",
      "    accuracy                           0.60      1503\n",
      "   macro avg       0.34      0.49      0.32      1503\n",
      "weighted avg       0.76      0.60      0.65      1503\n",
      "\n",
      "0.5961410512308716\n",
      "[[ 30   9   3   3   2   0   2]\n",
      " [ 27  32   2   7   5   2   2]\n",
      " [ 55  37  36  15   5   1  16]\n",
      " [  2   0   0  13   0   1   1]\n",
      " [ 42  46   5  20  29  13  12]\n",
      " [ 44  55  19  45  54 745  44]\n",
      " [  4   4   2   1   0   0  11]]\n",
      "None\n"
     ]
    }
   ],
   "source": [
    "# Printing model's performance\n",
    "print(metrics(y_train_meta.numpy(), y_train_predicted, y_val_meta.numpy(), y_val_predicted))"
   ]
  },
  {
   "cell_type": "code",
   "execution_count": 626,
   "metadata": {},
   "outputs": [],
   "source": [
    "# Hyperparameter Tuning\n",
    "def model_builder(hp):\n",
    "  '''\n",
    "  Arguments:\n",
    "    hp - Keras tuner object\n",
    "  '''\n",
    "  hp_units = hp.Choice('units', values = [128, 256, 512])\n",
    "\n",
    "  model = Sequential()\n",
    "  model.add(Dense(hp_units,activation=\"relu\"))\n",
    "  \n",
    "  hp_dropout = hp.Float('rate', min_value = 0, max_value = 0.3, step = 0.1)\n",
    "  model.add(Dropout(hp_dropout))\n",
    "\n",
    "  hp_units2 = hp.Choice('units2', values = [128, 256, 512])\n",
    "  model.add(Dense(hp_units2, activation='relu'))\n",
    "\n",
    "  model.add(Dropout(hp_dropout))\n",
    "\n",
    "  hp_units3 = hp.Choice('units3', values = [64, 128, 256])\n",
    "  model.add(Dense(hp_units3,activation=\"relu\"))\n",
    "  model.add(Dropout(hp_dropout))\n",
    "\n",
    "  hp_units4 = hp.Choice('units4', values = [64, 128, 256])\n",
    "  model.add(Dense(hp_units4,activation=\"relu\"))\n",
    "  model.add(Dropout(hp_dropout))\n",
    "\n",
    "  model.add(Dense(7, activation='softmax'))\n",
    "\n",
    "  hp_learning_rate = hp.Choice('learning_rate', values=[1e-3, 1e-4])\n",
    "  model.compile(optimizer=tensorflow.keras.optimizers.Adam(learning_rate=hp_learning_rate),\n",
    "                loss=[\"sparse_categorical_crossentropy\"],\n",
    "                metrics=['accuracy']\n",
    "                )\n",
    "  return model\n"
   ]
  },
  {
   "cell_type": "code",
   "execution_count": 627,
   "metadata": {},
   "outputs": [
    {
     "name": "stdout",
     "output_type": "stream",
     "text": [
      "Trial 254 Complete [00h 00m 57s]\n",
      "val_accuracy: 0.5815036296844482\n",
      "\n",
      "Best val_accuracy So Far: 0.6300731897354126\n",
      "Total elapsed time: 01h 17m 32s\n"
     ]
    }
   ],
   "source": [
    " # Initiate Hyperparameter Tuner\n",
    "tuner = kt.Hyperband(model_builder, objective= 'val_accuracy', max_epochs=100, factor=3,\n",
    "                     directory=path, project_name='hyper_metadata') \n",
    "\n",
    "tuner.search(X_train_meta, y_train_meta, validation_data=[X_val_meta,y_val_meta], \n",
    "             epochs=95, callbacks=[stop_early])"
   ]
  },
  {
   "cell_type": "code",
   "execution_count": 635,
   "metadata": {},
   "outputs": [
    {
     "name": "stdout",
     "output_type": "stream",
     "text": [
      "{'units': 512, 'rate': 0.0, 'units2': 512, 'units3': 64, 'units4': 256, 'learning_rate': 0.001, 'tuner/epochs': 12, 'tuner/initial_epoch': 4, 'tuner/bracket': 3, 'tuner/round': 1, 'tuner/trial_id': '0156'}\n"
     ]
    }
   ],
   "source": [
    "# Best parameters\n",
    "best_hp=tuner.get_best_hyperparameters()[0]\n",
    "print(best_hp.values)\n",
    "\n",
    "# results:\n",
    "# {'units': 512, 'rate': 0.0, 'units2': 512, 'units3': 64, 'units4': 256, 'learning_rate': 0.001, 'tuner/epochs': 12, 'tuner/initial_epoch': 4, 'tuner/bracket': 3, 'tuner/round': 1, 'tuner/trial_id': '0156'}"
   ]
  },
  {
   "cell_type": "code",
   "execution_count": null,
   "metadata": {},
   "outputs": [
    {
     "name": "stdout",
     "output_type": "stream",
     "text": [
      "Epoch 1/12\n",
      "438/438 [==============================] - 8s 19ms/step - loss: 0.8240 - accuracy: 0.6561 - val_loss: 0.9465 - val_accuracy: 0.6261\n",
      "Epoch 2/12\n",
      "438/438 [==============================] - 7s 16ms/step - loss: 0.8185 - accuracy: 0.6583 - val_loss: 0.9255 - val_accuracy: 0.6241\n",
      "Epoch 3/12\n",
      "438/438 [==============================] - 5s 11ms/step - loss: 0.8150 - accuracy: 0.6583 - val_loss: 0.9275 - val_accuracy: 0.6474\n",
      "Epoch 4/12\n",
      "438/438 [==============================] - 4s 9ms/step - loss: 0.8269 - accuracy: 0.6546 - val_loss: 0.9508 - val_accuracy: 0.6347\n",
      "Epoch 5/12\n",
      "438/438 [==============================] - 4s 10ms/step - loss: 0.8257 - accuracy: 0.6544 - val_loss: 0.9554 - val_accuracy: 0.6347\n",
      "Epoch 6/12\n",
      "438/438 [==============================] - 4s 9ms/step - loss: 0.8275 - accuracy: 0.6518 - val_loss: 0.9473 - val_accuracy: 0.6321\n",
      "Epoch 7/12\n",
      "438/438 [==============================] - 4s 10ms/step - loss: 0.8168 - accuracy: 0.6614 - val_loss: 0.9124 - val_accuracy: 0.6494\n",
      "Epoch 8/12\n",
      "438/438 [==============================] - 4s 9ms/step - loss: 0.8137 - accuracy: 0.6571 - val_loss: 0.9413 - val_accuracy: 0.6381\n",
      "Epoch 9/12\n",
      "438/438 [==============================] - 5s 11ms/step - loss: 0.8117 - accuracy: 0.6613 - val_loss: 0.9205 - val_accuracy: 0.6394\n",
      "Epoch 10/12\n",
      "438/438 [==============================] - 4s 9ms/step - loss: 0.8160 - accuracy: 0.6576 - val_loss: 0.9180 - val_accuracy: 0.6321\n",
      "Epoch 11/12\n",
      "438/438 [==============================] - 5s 10ms/step - loss: 0.8207 - accuracy: 0.6588 - val_loss: 0.9474 - val_accuracy: 0.6128\n",
      "Epoch 12/12\n",
      "438/438 [==============================] - 6s 13ms/step - loss: 0.8235 - accuracy: 0.6569 - val_loss: 0.9461 - val_accuracy: 0.6354\n"
     ]
    }
   ],
   "source": [
    "# Defining the best model\n",
    "best_model = tuner.hypermodel.build(best_hp)\n",
    "\n",
    "# Fitting the best model\n",
    "hist2 = best_model.fit(X_train_meta, y_train_meta, epochs=12, validation_data=[X_val_meta,y_val_meta])"
   ]
  },
  {
   "cell_type": "code",
   "execution_count": 631,
   "metadata": {},
   "outputs": [
    {
     "name": "stdout",
     "output_type": "stream",
     "text": [
      "438/438 [==============================] - 2s 4ms/step\n",
      "47/47 [==============================] - 0s 4ms/step\n"
     ]
    }
   ],
   "source": [
    "# Making predictions with the best model\n",
    "y_train_predicted = best_model.predict(X_train_meta)\n",
    "y_train_predicted= np.argmax(y_train_predicted,axis=1)\n",
    "y_val_predicted= best_model.predict(X_val_meta)\n",
    "y_val_predicted= np.argmax(y_val_predicted,axis=1)"
   ]
  },
  {
   "cell_type": "code",
   "execution_count": null,
   "metadata": {},
   "outputs": [
    {
     "name": "stdout",
     "output_type": "stream",
     "text": [
      "___________________________________________________________________________________________________________\n",
      "                                                     TRAIN                                                 \n",
      "-----------------------------------------------------------------------------------------------------------\n",
      "              precision    recall  f1-score   support\n",
      "\n",
      "         0.0       0.55      0.63      0.59      1750\n",
      "         1.0       0.47      0.52      0.50      1750\n",
      "         2.0       0.66      0.38      0.48      1750\n",
      "         3.0       0.69      0.93      0.79      1750\n",
      "         4.0       0.45      0.31      0.36      1750\n",
      "         5.0       0.92      0.82      0.86      3508\n",
      "         6.0       0.70      0.95      0.80      1750\n",
      "\n",
      "    accuracy                           0.67     14008\n",
      "   macro avg       0.63      0.65      0.63     14008\n",
      "weighted avg       0.67      0.67      0.66     14008\n",
      "\n",
      "0.6686893203883495\n",
      "[[1095  193   78  122  138    0  124]\n",
      " [ 268  915   82  130  175   63  117]\n",
      " [ 246  285  666  165  147   39  202]\n",
      " [  57    0    0 1631   62    0    0]\n",
      " [ 242  362   96  184  540  148  178]\n",
      " [  68  163   68   94  147 2863  105]\n",
      " [   0   21   22   50    0    0 1657]]\n",
      "___________________________________________________________________________________________________________\n",
      "                                                VALIDATION                                                 \n",
      "-----------------------------------------------------------------------------------------------------------\n",
      "              precision    recall  f1-score   support\n",
      "\n",
      "         0.0       0.18      0.53      0.27        49\n",
      "         1.0       0.20      0.42      0.27        77\n",
      "         2.0       0.55      0.32      0.40       165\n",
      "         3.0       0.14      0.71      0.24        17\n",
      "         4.0       0.27      0.22      0.24       167\n",
      "         5.0       0.96      0.78      0.86      1006\n",
      "         6.0       0.17      0.59      0.26        22\n",
      "\n",
      "    accuracy                           0.64      1503\n",
      "   macro avg       0.35      0.51      0.36      1503\n",
      "weighted avg       0.76      0.64      0.68      1503\n",
      "\n",
      "0.635395874916833\n",
      "[[ 26   6   4   3   8   0   2]\n",
      " [ 22  32   1   5   9   3   5]\n",
      " [ 39  28  52  13  17   6  10]\n",
      " [  2   0   1  12   0   1   1]\n",
      " [ 25  39  14  18  36  19  16]\n",
      " [ 26  51  19  33  62 784  31]\n",
      " [  2   1   4   1   0   1  13]]\n"
     ]
    }
   ],
   "source": [
    "# Printing best model's performance\n",
    "metrics(y_train_meta.numpy(), y_train_predicted, y_val_meta.numpy(), y_val_predicted)"
   ]
  },
  {
   "cell_type": "code",
   "execution_count": 639,
   "metadata": {},
   "outputs": [],
   "source": [
    "# Getting the best model performance metrics\n",
    "acc = hist2.history['accuracy']\n",
    "val_acc = hist2.history['val_accuracy']\n",
    "loss = hist2.history['loss']\n",
    "val_loss = hist2.history['val_loss']\n",
    "\n",
    "epochs = range(1, len(acc) + 1)"
   ]
  },
  {
   "cell_type": "code",
   "execution_count": 640,
   "metadata": {},
   "outputs": [
    {
     "data": {
      "image/png": "[encoded data removed]",
      "text/plain": [
       "<Figure size 432x288 with 1 Axes>"
      ]
     },
     "metadata": {
      "needs_background": "light"
     },
     "output_type": "display_data"
    }
   ],
   "source": [
    "# Plotting the best model's loss\n",
    "plt.plot(epochs, loss, 'bo', label='Training loss')\n",
    "plt.plot(epochs, val_loss, 'b', label='Validation loss')\n",
    "plt.title('Training and validation loss')\n",
    "plt.xlabel('Epochs')\n",
    "plt.ylabel('Loss')\n",
    "plt.legend()\n",
    "plt.show()"
   ]
  },
  {
   "cell_type": "code",
   "execution_count": 641,
   "metadata": {},
   "outputs": [
    {
     "data": {
      "image/png": "[encoded data removed]",
      "text/plain": [
       "<Figure size 432x288 with 1 Axes>"
      ]
     },
     "metadata": {
      "needs_background": "light"
     },
     "output_type": "display_data"
    }
   ],
   "source": [
    "# Plotting the best model's accuracy\n",
    "plt.clf()\n",
    "plt.plot(epochs, acc, 'bo', label='Training acc')\n",
    "plt.plot(epochs, val_acc, 'b', label='Validation acc')\n",
    "plt.title('Training and validation accuracy')\n",
    "plt.xlabel('Epochs')\n",
    "plt.ylabel('Accuracy')\n",
    "plt.legend()\n",
    "plt.show()"
   ]
  },
  {
   "cell_type": "code",
   "execution_count": 35,
   "metadata": {},
   "outputs": [],
   "source": [
    "# Save the best model\n",
    "# best_model.save(path + 'models//best_model_meta.h5')"
   ]
  },
  {
   "cell_type": "markdown",
   "metadata": {},
   "source": [
    "### Functional API\n",
    "<a id='functional-api'></a>"
   ]
  },
  {
   "cell_type": "code",
   "execution_count": 94,
   "metadata": {},
   "outputs": [],
   "source": [
    "# Loading the best model for images\n",
    "best_model_images = load_model(path + \"models//best_model_images.h5\")\n",
    "\n",
    "# Loading the best model for metadata\n",
    "best_model_meta = load_model(path + \"models//best_model_meta.h5\", compile=False)"
   ]
  },
  {
   "cell_type": "code",
   "execution_count": 84,
   "metadata": {},
   "outputs": [],
   "source": [
    "# Defining the input shapes\n",
    "images_input = Input(shape = (71, 71 , 3), name = 'images')\n",
    "metadata_input = Input(shape = (7,), name = 'metadata')"
   ]
  },
  {
   "cell_type": "code",
   "execution_count": 85,
   "metadata": {},
   "outputs": [],
   "source": [
    "# Defining the functional API\n",
    "x1 = best_model_images(images_input)\n",
    "x1 = Flatten()(x1)\n",
    "\n",
    "x2 = best_model_meta(metadata_input)\n",
    "x2 = Flatten()(x2)\n",
    "\n",
    "concatenated = layers.concatenate([x1, x2])\n",
    "preds = Dense(7, activation='softmax', name='output')(concatenated)\n",
    "\n",
    "model = Model(inputs=[metadata_input, images_input], outputs=preds)\n",
    "model.compile(optimizer='adam', loss='sparse_categorical_crossentropy', metrics=['accuracy'])"
   ]
  },
  {
   "cell_type": "code",
   "execution_count": 90,
   "metadata": {},
   "outputs": [],
   "source": [
    "# Defining the tabular features \n",
    "\n",
    "# TRAIN\n",
    "train_tabular_features = metadata_train[['one_hot__dx_type_confocal', 'one_hot__dx_type_consensus', 'one_hot__dx_type_follow_up',\n",
    "                                          'one_hot__dx_type_histo', 'age', 'sex', 'localization']].values.astype(float)\n",
    "\n",
    "# VAL\n",
    "val_tabular_features = metadata_val[['one_hot__dx_type_confocal', 'one_hot__dx_type_consensus', 'one_hot__dx_type_follow_up',\n",
    "                                          'one_hot__dx_type_histo', 'age', 'sex', 'localization']].values.astype(float)"
   ]
  },
  {
   "cell_type": "code",
   "execution_count": 94,
   "metadata": {},
   "outputs": [
    {
     "name": "stdout",
     "output_type": "stream",
     "text": [
      "Epoch 1/10\n",
      "WARNING:tensorflow:AutoGraph could not transform <function Model.make_train_function.<locals>.train_function at 0x00000265A8E88AF0> and will run it as-is.\n",
      "Cause: Unable to locate the source code of <function Model.make_train_function.<locals>.train_function at 0x00000265A8E88AF0>. Note that functions defined in certain environments, like the interactive Python shell, do not expose their source code. If that is the case, you should define them in a .py source file. If you are certain the code is graph-compatible, wrap the call using @tf.autograph.experimental.do_not_convert. Original error: could not get source code\n",
      "To silence this warning, decorate the function with @tf.autograph.experimental.do_not_convert\n",
      "WARNING: AutoGraph could not transform <function Model.make_train_function.<locals>.train_function at 0x00000265A8E88AF0> and will run it as-is.\n",
      "Cause: Unable to locate the source code of <function Model.make_train_function.<locals>.train_function at 0x00000265A8E88AF0>. Note that functions defined in certain environments, like the interactive Python shell, do not expose their source code. If that is the case, you should define them in a .py source file. If you are certain the code is graph-compatible, wrap the call using @tf.autograph.experimental.do_not_convert. Original error: could not get source code\n",
      "To silence this warning, decorate the function with @tf.autograph.experimental.do_not_convert\n",
      "110/110 [==============================] - ETA: 0s - loss: 1.6547 - accuracy: 0.4864WARNING:tensorflow:AutoGraph could not transform <function Model.make_test_function.<locals>.test_function at 0x00000265884FBA60> and will run it as-is.\n",
      "Cause: Unable to locate the source code of <function Model.make_test_function.<locals>.test_function at 0x00000265884FBA60>. Note that functions defined in certain environments, like the interactive Python shell, do not expose their source code. If that is the case, you should define them in a .py source file. If you are certain the code is graph-compatible, wrap the call using @tf.autograph.experimental.do_not_convert. Original error: could not get source code\n",
      "To silence this warning, decorate the function with @tf.autograph.experimental.do_not_convert\n",
      "WARNING: AutoGraph could not transform <function Model.make_test_function.<locals>.test_function at 0x00000265884FBA60> and will run it as-is.\n",
      "Cause: Unable to locate the source code of <function Model.make_test_function.<locals>.test_function at 0x00000265884FBA60>. Note that functions defined in certain environments, like the interactive Python shell, do not expose their source code. If that is the case, you should define them in a .py source file. If you are certain the code is graph-compatible, wrap the call using @tf.autograph.experimental.do_not_convert. Original error: could not get source code\n",
      "To silence this warning, decorate the function with @tf.autograph.experimental.do_not_convert\n",
      "110/110 [==============================] - 394s 4s/step - loss: 1.6547 - accuracy: 0.4864 - val_loss: 1.6073 - val_accuracy: 0.5476\n",
      "Epoch 2/10\n",
      "110/110 [==============================] - 353s 3s/step - loss: 1.4020 - accuracy: 0.6192 - val_loss: 1.4016 - val_accuracy: 0.6188\n",
      "Epoch 3/10\n",
      "110/110 [==============================] - 358s 3s/step - loss: 1.2684 - accuracy: 0.6381 - val_loss: 1.1198 - val_accuracy: 0.6547\n",
      "Epoch 4/10\n",
      "110/110 [==============================] - 351s 3s/step - loss: 1.1609 - accuracy: 0.6760 - val_loss: 1.2104 - val_accuracy: 0.6048\n",
      "Epoch 5/10\n",
      "110/110 [==============================] - 357s 3s/step - loss: 1.0403 - accuracy: 0.7100 - val_loss: 1.0159 - val_accuracy: 0.6893\n",
      "Epoch 6/10\n",
      "110/110 [==============================] - 365s 3s/step - loss: 0.9344 - accuracy: 0.7456 - val_loss: 0.9352 - val_accuracy: 0.6840\n",
      "Epoch 7/10\n",
      "110/110 [==============================] - 355s 3s/step - loss: 0.9061 - accuracy: 0.7352 - val_loss: 1.0248 - val_accuracy: 0.6460\n",
      "Epoch 8/10\n",
      "110/110 [==============================] - 351s 3s/step - loss: 0.8149 - accuracy: 0.7711 - val_loss: 0.9369 - val_accuracy: 0.6693\n",
      "Epoch 9/10\n",
      "110/110 [==============================] - 355s 3s/step - loss: 0.7520 - accuracy: 0.7868 - val_loss: 0.8021 - val_accuracy: 0.7033\n",
      "Epoch 10/10\n",
      "110/110 [==============================] - 351s 3s/step - loss: 0.6964 - accuracy: 0.8019 - val_loss: 0.8929 - val_accuracy: 0.6707\n"
     ]
    }
   ],
   "source": [
    "# Fitting the model\n",
    "history = model.fit({'images': X_train_over, 'metadata': train_tabular_features}, y=y_train_meta, epochs=10,\n",
    "    validation_data=({'images': X_val,'metadata': val_tabular_features}, y_val_meta), batch_size=128)"
   ]
  },
  {
   "cell_type": "code",
   "execution_count": 121,
   "metadata": {},
   "outputs": [],
   "source": [
    "# Storing the functional api model\n",
    "# model.save(path + \"models//functional_API_model.h5\")"
   ]
  },
  {
   "cell_type": "code",
   "execution_count": null,
   "metadata": {},
   "outputs": [],
   "source": [
    "# Loading the functional API model\n",
    "functional_API_model = load_model(path + \"models//functional_API_model.h5\")"
   ]
  },
  {
   "cell_type": "code",
   "execution_count": 111,
   "metadata": {},
   "outputs": [
    {
     "name": "stdout",
     "output_type": "stream",
     "text": [
      "219/219 [==============================] - 69s 310ms/step\n",
      "24/24 [==============================] - 8s 312ms/step\n",
      "___________________________________________________________________________________________________________\n",
      "                                                     TRAIN                                                 \n",
      "-----------------------------------------------------------------------------------------------------------\n",
      "              precision    recall  f1-score   support\n",
      "\n",
      "           0       0.40      0.07      0.12      1750\n",
      "           1       0.59      0.92      0.72      1750\n",
      "           2       0.68      0.33      0.45      1750\n",
      "           3       0.49      0.87      0.63      1750\n",
      "           4       0.56      0.51      0.53      1750\n",
      "           5       0.83      0.86      0.84      3508\n",
      "           6       0.92      0.98      0.95      1750\n",
      "\n",
      "    accuracy                           0.67     14008\n",
      "   macro avg       0.64      0.65      0.61     14008\n",
      "weighted avg       0.66      0.67      0.64     14008\n",
      "\n",
      "0.6734009137635637\n",
      "[[ 126  320   34 1183   41   37    9]\n",
      " [   0 1617    4   38   18   53   20]\n",
      " [ 100  232  577  241  442  148   10]\n",
      " [   0   95    0 1515   40   40   60]\n",
      " [  54  275  133   62  888  314   24]\n",
      " [  33  162   95   47  153 3001   17]\n",
      " [   0   21    0    0    0   20 1709]]\n",
      "___________________________________________________________________________________________________________\n",
      "                                                VALIDATION                                                 \n",
      "-----------------------------------------------------------------------------------------------------------\n",
      "              precision    recall  f1-score   support\n",
      "\n",
      "           0       0.05      0.04      0.04        49\n",
      "           1       0.30      0.77      0.43        77\n",
      "           2       0.41      0.24      0.31       165\n",
      "           3       0.13      0.65      0.21        17\n",
      "           4       0.37      0.42      0.40       167\n",
      "           5       0.94      0.80      0.87      1006\n",
      "           6       0.49      0.77      0.60        22\n",
      "\n",
      "    accuracy                           0.67      1503\n",
      "   macro avg       0.38      0.53      0.41      1503\n",
      "weighted avg       0.74      0.67      0.69      1503\n",
      "\n",
      "0.6706586826347305\n",
      "[[  2  21   1  18   6   1   0]\n",
      " [  4  59   2   4   2   5   1]\n",
      " [ 11  28  40  25  49  11   1]\n",
      " [  1   3   0  11   1   1   0]\n",
      " [ 10  27  10  13  70  33   4]\n",
      " [ 13  54  44  15  59 809  12]\n",
      " [  0   5   0   0   0   0  17]]\n"
     ]
    }
   ],
   "source": [
    "# Predictions on training data\n",
    "train_pred = model.predict([train_tabular_features, X_train_over], batch_size=64, verbose=1)\n",
    "train_pred = np.argmax(train_pred, axis=1)\n",
    "\n",
    "# Predictions on validation data\n",
    "predictions = model.predict([val_tabular_features, X_val], batch_size=64, verbose=1)\n",
    "predictions = np.argmax(predictions, axis=1)\n",
    "\n",
    "metrics(y_train_over, train_pred, y_val, predictions)"
   ]
  }
 ],
 "metadata": {
  "kernelspec": {
   "display_name": "base",
   "language": "python",
   "name": "python3"
  },
  "language_info": {
   "codemirror_mode": {
    "name": "ipython",
    "version": 3
   },
   "file_extension": ".py",
   "mimetype": "text/x-python",
   "name": "python",
   "nbconvert_exporter": "python",
   "pygments_lexer": "ipython3",
   "version": "3.9.18"
  }
 },
 "nbformat": 4,
 "nbformat_minor": 2
}
